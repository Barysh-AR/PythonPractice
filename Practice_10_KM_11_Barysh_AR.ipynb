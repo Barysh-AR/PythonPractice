{
  "cells": [
    {
      "cell_type": "markdown",
      "metadata": {
        "id": "FMqboNwO4rVs"
      },
      "source": [
        "# **Курс \"Програмування на мові Python\"**"
      ]
    },
    {
      "cell_type": "markdown",
      "metadata": {
        "id": "A2T6MigL5Z06"
      },
      "source": [
        "## **Практичне зайняття №10**\n",
        "\n",
        "### Тема: \"Лямбда-функції. Функції вищих порядків\""
      ]
    },
    {
      "cell_type": "markdown",
      "metadata": {
        "id": "cfCdgK2zXm7e"
      },
      "source": [
        "### **Завдання 1 (1 бал)**\n",
        "\n",
        "Продавець роздрібного товару влаштовує розпродаж. Для всіх товарів знижка однакова - 60%. Щоб вивісити нові цінники, продавець хоче скласти таблицю, в якій для кожного товару буде підрахована його нова вартість та сума знижки.\n",
        "\n",
        "Написати програму, яка буде генерувати таку таблицю. Вартість одиниць товарів до розпродажу подано у списку products_list. \n",
        "\n",
        "1. Для підрахунку невідомих значень повинні використовуватись вбудовані функції вищих порядків.\n",
        "\n",
        "2. Вартість з урахуванням знижки та суми знижок для кожного товару повинні зберігатись у двох окремих списках. Порядок товарів у нових списках повинен бути такий самий, як і в списку products_list.\n",
        "\n",
        "3. Кожне підраховане числове значення має бути округлене до сотих.\n",
        "\n",
        "4. Дані повинні виводитись у вигляді:\n",
        "\n",
        "**Discount table:**\n",
        "\n",
        "**29.25 11.7 17.55**\n",
        "\n",
        "**48.99 19.6 29.39**\n",
        "\n",
        "**...**\n",
        "\n",
        "\n",
        "products_list = [29.25, 48.99, 99.98, 124.65, 214.30, 543.90, 799.85]\n"
      ]
    },
    {
      "cell_type": "code",
      "execution_count": null,
      "metadata": {
        "id": "ifNX2M7LXm7f"
      },
      "outputs": [],
      "source": [
        "products_list = [29.25, 48.99, 99.98, 124.65, 214.30, 543.90, 799.85]\n",
        "price_new = list(map(lambda a: round(a /100 *40, 2), products_list))\n",
        "difference = list(map(lambda a: a - round(a /100 *40, 2), products_list))\n",
        "print('Discount table:')\n",
        "for i in range(len(products_list)):\n",
        "    print('{} {} {}'.format(products_list[i], price_new[i], difference[i]))"
      ]
    },
    {
      "cell_type": "markdown",
      "metadata": {},
      "source": [
        "### **Завдання 2 (2 бали)**\n",
        "\n",
        "Зазвичай рік має 365 днів. Однак у високосні роки додається ще один день - 29 лютого. Правила визначення високосного року такі:\n",
        "\n",
        "- Будь-який рік, що ділиться на 400 - високосний.\n",
        "\n",
        "- З тих років, що залишились, будь-який рік, що ділиться на 100 - **не** високосний.\n",
        "\n",
        "- З тих років, що залишились, будь-який рік, що ділиться на 4 - високосний.\n",
        "\n",
        "- Усі інші роки, що залишились - **не** високосні.\n",
        "\n",
        "1) Створіть функцію, в якій за допомогою вбудованих функцій вищих порядків будуть визначатися високосні роки серед перелічених років у списку years. Створена функція має повертати список високосних років.\n",
        "\n",
        "2) Створіть функцію вищих порядків, яка прийматиме на вхід попередню функцію та визначатиме кількість днів у місяці. Також функція повинна приймати на вхід ще 2 параметри: ціле число від 1 до 12 (місяць) та рік, як ціле чотирицифрове число. Ці значення корисувач має вводити з клавіатури. Перевірку введених даних слід виконувати поза межами функцій."
      ]
    },
    {
      "cell_type": "code",
      "execution_count": null,
      "metadata": {},
      "outputs": [],
      "source": [
        "import numpy as np\n",
        "\n",
        "years = np.arange(1900, 2020+1, 1)\n",
        "\n",
        "def leap_years(years):\n",
        "    def leapness(year):\n",
        "        if year % 400 == 0:\n",
        "            a = 1\n",
        "        elif year % 100 == 0:\n",
        "            a = 0\n",
        "        elif year % 4 == 0:\n",
        "            a = 1\n",
        "        else:\n",
        "            a = 0\n",
        "        return a\n",
        "    b = list(filter(lambda x: leapness(x) != 0 , years))\n",
        "    return b\n",
        "\n",
        "def fdays(a, month, year):\n",
        "    b =[year]\n",
        "    if month in (1,3,5,7,8,10,12):\n",
        "        day = 31\n",
        "    elif month in (4,6,9,11):\n",
        "        day = 30\n",
        "    elif month == 2:\n",
        "        if a(b) != []:\n",
        "            day = 29\n",
        "        else:\n",
        "            day = 28\n",
        "    return day\n",
        "\n",
        "print()\n",
        "print('leep years in list:')\n",
        "print(leap_years(years))\n",
        "print()\n",
        "\n",
        "w = True\n",
        "while w :\n",
        "    try:\n",
        "        month = int(input('enter the month number: '))\n",
        "    except:\n",
        "        print('you entered incorrect data')\n",
        "    else:\n",
        "        if month > 0 and month < 13:\n",
        "            w = False\n",
        "w = True\n",
        "while w :\n",
        "    try:\n",
        "        year = int(input('enter year: '))\n",
        "    except:\n",
        "        print('you entered incorrect data')\n",
        "    else:\n",
        "        if year > 0:\n",
        "            w = False\n",
        "\n",
        "day = fdays(leap_years, month, year)\n",
        "text = 'in {}, in the {} month {} days'.format(year, month, day)\n",
        "print(text)\n",
        "print()"
      ]
    }
  ],
  "metadata": {
    "colab": {
      "collapsed_sections": [],
      "name": "Practice_7_KM-01_.ipynb",
      "provenance": []
    },
    "kernelspec": {
      "display_name": "Python 3",
      "name": "python3"
    }
  },
  "nbformat": 4,
  "nbformat_minor": 0
}
