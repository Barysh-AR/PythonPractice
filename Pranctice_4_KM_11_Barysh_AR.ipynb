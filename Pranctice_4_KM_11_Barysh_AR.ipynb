{
  "nbformat": 4,
  "nbformat_minor": 2,
  "metadata": {
    "colab": {
      "name": "Pranctice_3_KM-01_<name>.ipynb",
      "provenance": [],
      "collapsed_sections": []
    },
    "kernelspec": {
      "name": "python3",
      "display_name": "Python 3"
    }
  },
  "cells": [
    {
      "cell_type": "markdown",
      "source": [
        "# **Курс \"Програмування на мові Python\"**"
      ],
      "metadata": {
        "id": "1bRxWHr5e8kt"
      }
    },
    {
      "cell_type": "markdown",
      "source": [
        "## **Практичне зайняття №3**\n",
        "### Тема: \"Перші програми на Python. Введення та виведення даних. Інструкція if\""
      ],
      "metadata": {
        "id": "buZUwUgFe-kx"
      }
    },
    {
      "cell_type": "markdown",
      "source": [
        "### **Завдання 1 (1,5 бали)**\n",
        "\n"
      ],
      "metadata": {
        "id": "PUkxEn8EfAUe"
      }
    },
    {
      "cell_type": "markdown",
      "source": [
        "**Написати програму введення та виведення даних про одержувача листа (посилки) за стандартами Укрпошти.**\n",
        "\n",
        "1. Усі запити на введення даних повинні супроводжуватись відповідними підказками-поясненнями (бажано англійською мовою).\n",
        "\n",
        "2. Дані мають виводитись так, як показано нижче (з урахуванням кількості рядків та послідовності даних у кожному з них).\n",
        "\n",
        "3. Дані, виділені жирним шрифтом, повинні вводитись із клавіатури. Всього має бути 9 окремих команд введення даних\n",
        "\n",
        "4. Назви змінних повинні бути інформативними та оформленими відповідно до правил іменування змінних\n",
        "\n",
        "5. Додати 2 коментарі, що вказують на блоки введення та виведення даних.\n",
        "\n",
        "***Формат виведення даних:***\n",
        "\n",
        "(1) **Ім'я** (2) **Прізвище**\n",
        "\n",
        "(3) **Номер телефону**\n",
        "\n",
        "Str. (4) **Назва вулиці** (5) **Номер будинку**, ap. (6) **Номер квартири**, (7) **Місто**\n",
        "\n",
        "(8) **Індекс**\n",
        "\n",
        "(9) **Країна**\n",
        "\n",
        "***Приклад виведення:***\n",
        "\n",
        "*Lucas Diallo*\n",
        "\n",
        "*3221234567*\n",
        "\n",
        "*Str. Longue 3, ap. 5, Bruxelles*\n",
        "\n",
        "*1020*\n",
        "\n",
        "*Belgium*"
      ],
      "metadata": {
        "id": "M7jjwxAvfKa2"
      }
    },
    {
      "cell_type": "code",
      "execution_count": null,
      "source": [
        "#Блок вводу данних\r\n",
        "name = input(\"Enter the recipient's name: \")\r\n",
        "surname = input(\"Enter the recipient's suname: \")\r\n",
        "print(\"Enter the recipient's phone number: \")\r\n",
        "print('you must enter 10 digits')\r\n",
        "print('__________')\r\n",
        "phone_number = input()\r\n",
        "phone_number_1 = int(phone_number)\r\n",
        "print\r\n",
        "if (phone_number_1 > 0) and (phone_number_1 < 10000000000):\r\n",
        "    pass\r\n",
        "else:\r\n",
        "    print('You entered the wrong data')\r\n",
        "street_name = input(\"Enter the recipient's street name: \")\r\n",
        "house_number = input(\"Enter the recipient's house number\")\r\n",
        "house_number_1 = int(house_number)\r\n",
        "if (house_number_1 > 0):\r\n",
        "    house_number = str(house_number_1)\r\n",
        "else:\r\n",
        "    print('You entered the wrong data')\r\n",
        "apartment_number = input(\"Enter recipient's apartment number: \")\r\n",
        "apartment_number_1 = int(apartment_number)\r\n",
        "if (apartment_number_1 > 0):\r\n",
        "    apartment_number = str(apartment_number_1)\r\n",
        "else:\r\n",
        "    print('You entered the wrong data')\r\n",
        "city = input('Enter the city where the recipient lives: ')\r\n",
        "print(\"Enter the recipient's index: \")\r\n",
        "print(\"you must enter 4 digits\")\r\n",
        "print('____')\r\n",
        "index = input()\r\n",
        "index_1 = int(index)\r\n",
        "if (index_1 > 0) and (index_1 < 10000) :\r\n",
        "    pass\r\n",
        "else:\r\n",
        "    print('You entered the wrong data')\r\n",
        "country = input(\"Enter the country where the recipient lives: \")\r\n",
        "#Блок виводу данних\r\n",
        "print()\r\n",
        "print(name + ' ' + surname)\r\n",
        "print(phone_number)\r\n",
        "print('St. ' + street_name + ' ' + house_number + ', ap. ' + apartment_number + ', ' + city)\r\n",
        "print(index)\r\n",
        "print(country)\r\n",
        "print()"
      ],
      "outputs": [],
      "metadata": {}
    },
    {
      "cell_type": "markdown",
      "source": [
        "### **Завдання 2 (1,5 бали)**"
      ],
      "metadata": {
        "id": "WmnpKrmPf689"
      }
    },
    {
      "cell_type": "markdown",
      "source": [
        "Таблиця містить магнітуду землетрусів за шкалою Ріхтера та дескриптори, що їй відповідають.\n",
        "\n",
        "Магнітуда | Дескриптор\n",
        "--- | ---\n",
        "Менше, ніж 2 | Micro\n",
        "Від 2 до менше ніж 3 | Very minor\n",
        "Від 3 до менше ніж 4 | Minor\n",
        "Від 4 до менше ніж 5 | Light\n",
        "Від 5 до менше ніж 6 | Moderate\n",
        "Від 6 до менше ніж 7 | Strong\n",
        "Від 7 до менше ніж 8 | Major\n",
        "Від 8 до менше ніж 10 | Great\n",
        "10 та більше | Meteoric\n",
        "\n",
        "Напишіть програму, яка буде зчитувати магнітуду, введену користувачем, та виводити відповідний дескриптор як частину змістовного повідомлення. Наприклад, якщо користувач вводить 5.5, ваша програма повинна показати, що землетрус з такою магнітудою є помірним (moderate)."
      ],
      "metadata": {
        "id": "4n4p_pz7gFKM"
      }
    },
    {
      "cell_type": "code",
      "execution_count": null,
      "source": [
        "print()\r\n",
        "magnitude = float(input('Enter the magnitude value: '))\r\n",
        "if magnitude > 0 :\r\n",
        "    print()\r\n",
        "    if magnitude < 2:\r\n",
        "        print(\"It's Micro earthquake\")\r\n",
        "    elif magnitude < 3:\r\n",
        "        print(\"It's Very minor earthquake\")\r\n",
        "    elif magnitude < 4:\r\n",
        "        print(\"It's Minor earthquake\")\r\n",
        "    elif magnitude < 5:\r\n",
        "        print(\"It's Light earthquake\")\r\n",
        "    elif magnitude < 6:\r\n",
        "        print(\"It's Moderate earthquake\")\r\n",
        "    elif magnitude < 7:\r\n",
        "        print(\"It's Strong earthquake\")\r\n",
        "    elif magnitude < 8:\r\n",
        "        print(\"It's Major earthquake\")\r\n",
        "    elif magnitude < 10:\r\n",
        "        print(\"It's Great earthquake\")\r\n",
        "    else:\r\n",
        "        print(\"It's Meteoric earthquake\")\r\n",
        "    print()\r\n",
        "else:\r\n",
        "    print('You entered the wrong data')"
      ],
      "outputs": [],
      "metadata": {
        "id": "Nv66Jkkpf-sI"
      }
    },
    {
      "cell_type": "markdown",
      "source": [
        "### **Завдання 3 (бонусне, 1 бал)**"
      ],
      "metadata": {
        "id": "X8fC_GM_nMRi"
      }
    },
    {
      "cell_type": "markdown",
      "source": [
        "Часто говорять, що один календарний рік еквівалентний 7 рокам для собаки. Однак таке просте перетворення не враховує того, що собаки досягають повноліття приблизно у 2 роки. Тому деякі люди вважать, що краще рахувати кожен з перших двох календарних років як 10,5 років для собаки, а потім рахувати кожен наступний календарний рік як 4 роки для собаки.\n",
        "\n",
        "Напишіть програму, яка конвертує календарні роки у \"собачі\", як було показано в попередньому абзаці. Переконайтесь, що ваша програма працює правильно, конвертуючи перші два календарні роки та всі подальші. Ваша програма також повинна виводити повідомлення про помилку, якщо користувач введе від'ємне число."
      ],
      "metadata": {
        "id": "b593txPwotgN"
      }
    },
    {
      "cell_type": "code",
      "execution_count": null,
      "source": [
        "age = float(input('Enter the age of the dog in calendar years: '))\r\n",
        "if (age > 0) and (age <= 2):\r\n",
        "    dog_age = age * 10.5\r\n",
        "    print('The dog is ' + str(dog_age) +' years old, by dog ​​standards')\r\n",
        "elif (age > 2):\r\n",
        "    dog_age = 21 + (age - 2) * 4\r\n",
        "    print('The dog is ' + str(dog_age) +' years old, by dog ​​standards')\r\n",
        "else:\r\n",
        "    print('You entered the wrong data')"
      ],
      "outputs": [],
      "metadata": {
        "id": "PA_E_H0Zosu0"
      }
    }
  ]
}
