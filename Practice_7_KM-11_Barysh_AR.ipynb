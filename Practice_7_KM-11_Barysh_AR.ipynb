{
  "cells": [
    {
      "cell_type": "markdown",
      "metadata": {
        "id": "FMqboNwO4rVs"
      },
      "source": [
        "# **Курс \"Програмування на мові Python\"**"
      ]
    },
    {
      "cell_type": "markdown",
      "metadata": {
        "id": "A2T6MigL5Z06"
      },
      "source": [
        "## **Практичне зайняття №7**\n",
        "\n",
        "### Тема: \"Робота з рядками. Глибокі копії об'єктів.\""
      ]
    },
    {
      "cell_type": "markdown",
      "metadata": {},
      "source": [
        "### **Завдання 1 (1 бал)**\n",
        "\n",
        "Створіть рядок формату, що дозволить отримати дані з кортежу format_tuple та вивести рядок:\n",
        "\n",
        "*Euler first used **pi** = **3.14** in his **1736** work **Mechanica**, and continued in his widely-read **1748** work Introductio in analysin infinitorum. In hexadecimal system, **pi** is **0x1.91eb851eb851fp+1**.*\n",
        "\n",
        "У рядку формату мають бути 7 заповнювачів (слово pi повторюється двічі, число 3.1415 також використовується двічі). У методі format() мають бути звернення безпосередньо до елементів кортежу.\n",
        "\n",
        "1. Для округлення значень скористайтесь функцією round().\n",
        "\n",
        "2. Щоб конвертувати число типу float у шістнадцяткову форму, скористайтесь методом float.hex().  Щоб отримати потрібне шістнадцяткове представлення, конвертуйте значення pi, округлене до сотих (https://python-reference.readthedocs.io/en/latest/docs/float/hex.html)."
      ]
    },
    {
      "cell_type": "code",
      "execution_count": null,
      "metadata": {},
      "outputs": [],
      "source": [
        "format_tuple = (1736, 3.1415, 'pi', 1748, 'Mechanica')\n",
        "print(\"\"\"Euler first used {} = {} in his {} work {}, and continued in his widely-read {} work Introductio in analysin infinitorum. In hexadecimal system, {} is {}.\"\"\".format(format_tuple[2], round(format_tuple[1],2), format_tuple[0], format_tuple[4],format_tuple[3],format_tuple[2],float.hex(round(format_tuple[1], 2))))"
      ]
    },
    {
      "cell_type": "markdown",
      "metadata": {},
      "source": [
        "### **Завдання 2 (2 бали)**\n",
        "\n",
        "*RGB (скорочено від англ. Red, Green, Blue — червоний, зелений, синій) — адитивна колірна модель, що описує спосіб синтезу кольору, за якою червоне, зелене та синє світло накладаються разом, змішуючись у різноманітні кольори. У моделі RGB колір кодується градаціями складових каналів (Red, Green, Blue). Кожен канал може набувати цілого значення на інтервалі [0; 255]. Наприклад, (255, 0, 0) - червоний колір, (0, 255, 0) - зелений, (255, 255, 0) - жовтий тощо. Візуалізувати кольори за кодами можна за посиланням:*\n",
        "\n",
        "*https://www.w3schools.com/colors/colors_rgb.asp*\n",
        "\n",
        "*Досить часто, особливо у веб-програмуванні, можна зустріти шістнадцяткове представлення кольорів. Щоб з шістнадцяткового представлення отримати десяткове, потрібно розбити 6 шістнадцяткових значень на 3 групи по 2 значення і конвертувати кожну пару шістнадцяткових значень у десяткові числа.*\n",
        "\n",
        "Написати програму, яка конвертуватиме шістнадцяткове представлення кольору у десятковий формат. Програма має приймати на вхід 6 символів (цифри 0-9 або літери A-F) та конвертувати їх у три цілі числа.\n",
        "\n",
        "1. Програма повинна перевіряти правильність введених користувачем значень. Користувач повинен ввести рівно 6 допустимих символів.\n",
        "\n",
        "2. Під час конвертації чисел з шістнадцяткової у десяткову систему числення *не можна* використовувати вбудованих функцій або функцій сторонніх бібліотек.\n",
        "\n",
        "Покроковий опис процесу конвертації подано за посиланням:\n",
        "\n",
        "https://www.developintelligence.com/blog/2017/02/rgb-to-hex-understanding-the-major-web-color-codes/"
      ]
    },
    {
      "cell_type": "code",
      "execution_count": null,
      "metadata": {},
      "outputs": [],
      "source": [
        "znachenia = ('1','2','3','4','5','6','7','8','9','0','A','B','C','D','E','F')\n",
        "w = True\n",
        "while w :\n",
        "    rgb_16=input('Enter a hexadecimal color representation: ')\n",
        "    w = False\n",
        "    n = 0\n",
        "    for i in rgb_16:\n",
        "        if i in znachenia:\n",
        "            pass\n",
        "        else:\n",
        "            w=True\n",
        "            break\n",
        "        n =n+1\n",
        "    if n != 6:\n",
        "        w = True\n",
        "    if w == True:\n",
        "        print('you entered incorrect values')\n",
        "table = {'0':0,'1':1,'2':2,'3':3,'4':4,'5':5,'6':6,'7':7,'8':8,'9':9,'A':10,'B':11,'C':12,'D':13,'E':14,'F':15,}\n",
        "r=table.get(rgb_16[0])*16 + table.get(rgb_16[1])\n",
        "g=table.get(rgb_16[2])*16 + table.get(rgb_16[3])\n",
        "b=table.get(rgb_16[4])*16 + table.get(rgb_16[5])\n",
        "rgb_10 = [r, g, b]\n",
        "print('''({},{},{})'''.format(rgb_10[0], rgb_10[1], rgb_10[2]))"
      ]
    }
  ],
  "metadata": {
    "colab": {
      "collapsed_sections": [
        "LyWSBl0DOxJ8",
        "5qzvb1n_va3D",
        "fRXqCrBOmwAX"
      ],
      "name": "Practice_6.ipynb",
      "provenance": []
    },
    "kernelspec": {
      "display_name": "Python 3",
      "name": "python3"
    }
  },
  "nbformat": 4,
  "nbformat_minor": 0
}
