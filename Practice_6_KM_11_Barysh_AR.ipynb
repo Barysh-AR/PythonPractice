{
  "nbformat": 4,
  "nbformat_minor": 2,
  "metadata": {
    "colab": {
      "name": "Practice_5_KM-03_.ipynb",
      "provenance": [],
      "collapsed_sections": []
    },
    "kernelspec": {
      "name": "python3",
      "display_name": "Python 3"
    }
  },
  "cells": [
    {
      "cell_type": "markdown",
      "source": [
        "# **Курс \"Програмування на мові Python\"**"
      ],
      "metadata": {
        "id": "FMqboNwO4rVs"
      }
    },
    {
      "cell_type": "markdown",
      "source": [
        "## **Практичне зайняття №6**\n",
        "### Тема: \"Робота з кортежами, множинами та словниками\""
      ],
      "metadata": {
        "id": "A2T6MigL5Z06"
      }
    },
    {
      "cell_type": "markdown",
      "source": [
        "### **Завдання 1 (1,5 бали)**\n",
        "\n",
        "Напишіть програму, яка визначала б, чи можна з літер однієї фрази скласти іншу фразу. Наприклад:\n",
        "\n",
        "\"William Shakespeare\" -> \"A small spark\"\n",
        "\n",
        "Перша фраза містить 11 унікальних літер (хоча деякі повторюються): a, e, h, i, k, l, m, p, r, s та w. Друга фраза містить 7 унікальних літер: a, k, l, m, p, r та s. Кожна з літер другої фрази зустрічається принаймні один раз у першій фразі.\n",
        "\n",
        "1. Обидві фрази повинні вводитись користувачем з клавіатури.\n",
        "\n",
        "2. Скористайтесь властивістю множин у мові програмування Python для виділення колекції унікальних літер.\n",
        "\n",
        "3. У множину не повинні потрапити пробіли, розділові знаки та інші символи, що не є літерами (скористайтесь методом **isalpha()**). Також усі літери мають бути переведені в нижній або верхній регістр (скористайтесь методами **lower()** або **upper()**).\n",
        "\n",
        "4. Зверніть увагу на те, що літери як в першій, так і вдругій фразі можуть повторюватись. Однак множина унікальних літер другої фрази повинна бути підмножиною множини унікальних літер першої фрази.\n",
        "\n",
        "5. У складі змістовного повідомлення програма повинна виводити множину літер першої фрази, множину літер другої фрази, а також змістовне повідомлення про те, чи можна скласти з літер першої фрази другу фразу."
      ],
      "metadata": {
        "id": "4AV5CN7N4xja"
      }
    },
    {
      "cell_type": "code",
      "execution_count": null,
      "source": [
        "print()\r\n",
        "print('first phrase -> second phrase')\r\n",
        "#Для того, щоб враховувались літери які повторюються, буде введена множина set_for_check_,\r\n",
        "#в ній літера, яка повторюється буде позначитись літерою з крапкою.\r\n",
        "#За умовою завдання повинна виводитись множина, в якій не буде інших символів окрім літер.\r\n",
        "#Тому у відповіді буде виводитись множина set_for_answer_\r\n",
        "phrase1 = str(input('enter the first phrase '))\r\n",
        "phrase_1_ = list(str(phrase1).lower())\r\n",
        "set_for_check_1 = set()\r\n",
        "for a in phrase_1_:\r\n",
        "    if a.isalpha() == True:\r\n",
        "        e = 0\r\n",
        "        b = 0\r\n",
        "        for c in phrase_1_:\r\n",
        "            if c == a :\r\n",
        "                e = e +1\r\n",
        "        while b != e:\r\n",
        "            set_for_check_1 = set_for_check_1 | {a}\r\n",
        "            a = a + '.'\r\n",
        "            b = b +1\r\n",
        "phrase2 = str(input('enter the second phrase '))\r\n",
        "phrase_2_ = list(str(phrase2).lower())\r\n",
        "set_for_check_2 = set()\r\n",
        "for a in phrase_2_:\r\n",
        "    if a.isalpha() == True:\r\n",
        "        e = 0\r\n",
        "        b = 0\r\n",
        "        for c in phrase_2_:\r\n",
        "            if c == a :\r\n",
        "                e = e +1\r\n",
        "        while b != e:\r\n",
        "            set_for_check_2 = set_for_check_2 | {a}\r\n",
        "            a = a + '.'\r\n",
        "            b = b +1\r\n",
        "set_for_answer_1 = set(phrase_1_)\r\n",
        "for a in phrase_1_:\r\n",
        "    if a.isalpha() == False:\r\n",
        "        set_for_answer_1 = set_for_answer_1 - {a}\r\n",
        "set_for_answer_2 = set(phrase_2_)\r\n",
        "for a in phrase_2_:\r\n",
        "    if a.isalpha() == False:\r\n",
        "        set_for_answer_2 = set_for_answer_2 - {a}\r\n",
        "print()\r\n",
        "if  set_for_check_2 & set_for_check_1 == set_for_check_2 :\r\n",
        "    print('yes, we can compose the second phrase from the first phrase')\r\n",
        "    print('set of all letters in the first phrase:')\r\n",
        "    print(set_for_answer_1)\r\n",
        "    print('set of all letters in the second phrase:')\r\n",
        "    print(set_for_answer_2)\r\n",
        "else:\r\n",
        "    print('no, we cannot compose the second phrase from the first phrase')\r\n",
        "    print('set of all letters in the first phrase:')\r\n",
        "    print(set_for_answer_1)\r\n",
        "    print('set of all letters in the second phrase:')\r\n",
        "    print(set_for_answer_2)\r\n",
        "    if set_for_answer_2 & set_for_answer_1 == set_for_answer_2:\r\n",
        "        print('there are letters that are missing in the required quantity')"
      ],
      "outputs": [],
      "metadata": {
        "id": "9Mesp1jV4xjb"
      }
    },
    {
      "cell_type": "markdown",
      "source": [
        "### **Завдання 2 (1,5 бали)**\n",
        "\n",
        "Скрабл (Ерудит) - це настільна гра, в якій від 2 до 4 гравців складають слова з наявних літер на полі розміром 15 х 15. За кожну використану літеру гравець отримує певну кількість балів. Перелік літер та балів, які можна отримати за використання цих літер, подано у таблиці.\n",
        "\n",
        "Бали | Літери\n",
        "--- | ---\n",
        "1 | A, E, I, L, N, O, R, S, T, U\n",
        "2 | D, G\n",
        "3 | B, C, M, P\n",
        "4 | F, H, V, W, Y\n",
        "5 | K\n",
        "8 | J, X\n",
        "10 | Q, Z\n",
        "\n",
        "Напишіть програму, яка підраховує та виводить загальну кількість балів, яку можна отримати за слово, введене користувачем з клавіатури.\n",
        "\n",
        "1. Скористайтесь словником для збереження усіх балів та літер, за які ці бали нараховуються. \n",
        "\n",
        "2. Якщо користувач введе кілька слів, виведіть бали, які можна отримати за кожне з них окремо.\n",
        "\n",
        "3. Якщо користувач введе символи, що не є літерами (окрім пробіла, який можна використовувати для розділення слів), програма має їх ігнорувати.\n",
        "\n",
        "4. Програма повинна приймати літери як верхнього, так і нижнього регістрів.\n",
        "\n",
        "Наприклад, якщо користувач введе \"Hello, World!\", програма повинна вивести:\n",
        "\n",
        "8 9\n",
        "\n",
        "або більш розгорнутий варіант (за бажанням):\n",
        "\n",
        "4+1+1+1+1=8\n",
        "\n",
        "4+1+1+1+2=9"
      ],
      "metadata": {
        "id": "t7fqn1NN-J7z"
      }
    },
    {
      "cell_type": "code",
      "execution_count": null,
      "source": [
        "word = str(input(''))\r\n",
        "list_word = []\r\n",
        "sentence = []\r\n",
        "for symbol in list(word.upper()):\r\n",
        "    if symbol != ' ':\r\n",
        "        if symbol.isalpha() :\r\n",
        "            list_word = list_word + [symbol]\r\n",
        "    if symbol == ' ':\r\n",
        "        sentence = list(sentence) + [list(list_word)]\r\n",
        "        list_word = []\r\n",
        "sentence = list(sentence) + [list(list_word)]\r\n",
        "table = {\r\n",
        "    'A':1,\r\n",
        "    'E':1,\r\n",
        "    'I':1, \r\n",
        "    'L':1, \r\n",
        "    'N':1, \r\n",
        "    'O':1, \r\n",
        "    'R':1, \r\n",
        "    'S':1, \r\n",
        "    'T':1, \r\n",
        "    'U':1, \r\n",
        "    'D':2, \r\n",
        "    'G':2, \r\n",
        "    'B':3, \r\n",
        "    'C':3, \r\n",
        "    'M':3, \r\n",
        "    'P':3, \r\n",
        "    'F':4, \r\n",
        "    'H':4, \r\n",
        "    'V':4, \r\n",
        "    'W':4, \r\n",
        "    'Y':4, \r\n",
        "    'K':5, \r\n",
        "    'J':8, \r\n",
        "    'X':8, \r\n",
        "    'Q':10, \r\n",
        "    'Z':10\r\n",
        "}\r\n",
        "points = []\r\n",
        "point_for_word = 0\r\n",
        "for list_word in sentence:\r\n",
        "    for letter in list_word:\r\n",
        "        point_for_letter = (table.get(letter))\r\n",
        "        point_for_word = point_for_word + point_for_letter\r\n",
        "    points = points + [point_for_word]\r\n",
        "    point_for_word = 0\r\n",
        "for point in points:\r\n",
        "    print(point, end= ' ')"
      ],
      "outputs": [],
      "metadata": {
        "id": "EVY800vg4xjg"
      }
    }
  ]
}