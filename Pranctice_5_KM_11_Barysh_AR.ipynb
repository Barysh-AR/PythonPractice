{
  "nbformat": 4,
  "nbformat_minor": 2,
  "metadata": {
    "colab": {
      "name": "Pranctice_3_KM-01_<name>.ipynb",
      "provenance": [],
      "collapsed_sections": []
    },
    "kernelspec": {
      "name": "python3",
      "display_name": "Python 3"
    }
  },
  "cells": [
    {
      "cell_type": "markdown",
      "source": [
        "# **Курс \"Програмування на мові Python\"**"
      ],
      "metadata": {
        "id": "1bRxWHr5e8kt"
      }
    },
    {
      "cell_type": "markdown",
      "source": [
        "## **Практичне зайняття №5**\n",
        "### Тема: \"Цикли. Робота зі списками\""
      ],
      "metadata": {
        "id": "buZUwUgFe-kx"
      }
    },
    {
      "cell_type": "markdown",
      "source": [
        "### **Завдання 1 (1,5 бали)**\n",
        "\n"
      ],
      "metadata": {
        "id": "PUkxEn8EfAUe"
      }
    },
    {
      "cell_type": "markdown",
      "source": [
        "Продавець роздрібного товару влаштовує розпродаж. Для всіх товарів знижка однакова - 60%. Щоб вивісити нові цінники, продавець хоче скласти таблицю, в якій для кожного товару буде підрахована його нова вартість та сума знижки.\r\n",
        "\r\n",
        "Написати програму, яка буде генерувати таку таблицю. Вартість одиниць товарів до розпродажу подано у списку products_list. \r\n",
        "\r\n",
        "1. Для підрахунку невідомих значень та їх виведення повинен використовуватись цикл.\r\n",
        "\r\n",
        "2. Вартість з урахуванням знижки та суми знижок для кожного товару повинні зберігатись у двох окремих списках. Порядок товарів у нових списках повинен бути такий самий, як і в списку products_list.\r\n",
        "\r\n",
        "3. Кожне підраховане числове значення має бути округлене до сотих. Для цього слід використати функцію round(). Приклад застосування цієї функції:\r\n",
        "\r\n",
        "```\r\n",
        "value_new = round(2.3741, 2)\r\n",
        "print(value_new)\r\n",
        "```\r\n",
        "\r\n",
        "4. Дані повинні виводитись у вигляді:\r\n",
        "\r\n",
        "**Discount table:**\r\n",
        "\r\n",
        "**29.25 11.7 17.55**\r\n",
        "\r\n",
        "**48.99 19.6 29.39**\r\n",
        "\r\n",
        "**...**\r\n",
        "\r\n",
        "\r\n",
        "products_list = [29.25, 48.99, 99.98, 124.65, 214.30, 543.90, 799.85]"
      ],
      "metadata": {}
    },
    {
      "cell_type": "code",
      "execution_count": null,
      "source": [
        "products_list = [29.25, 48.99, 99.98, 124.65, 214.30, 543.90, 799.85]\r\n",
        "e = len(products_list) +1\r\n",
        "price_new = [round(a /100 *40, 2)  for a in products_list]\r\n",
        "difference_1 = [a - b for a in products_list for b in price_new]\r\n",
        "difference = difference_1[0::e]\r\n",
        "e = e -1\r\n",
        "w = True\r\n",
        "r = 0\r\n",
        "print('Discount table:')\r\n",
        "while w :\r\n",
        "    if r == e:\r\n",
        "        break\r\n",
        "    else:\r\n",
        "        print (f'{products_list[r]:.2f} {price_new[r]:.2f} {difference[r]:.2f}')\r\n",
        "    r = r + 1"
      ],
      "outputs": [],
      "metadata": {}
    },
    {
      "cell_type": "markdown",
      "source": [
        "### **Завдання 2 (1,5 бали)**"
      ],
      "metadata": {}
    },
    {
      "cell_type": "markdown",
      "source": [
        "Перелічуючи деякі предмети у тексті, ми ставимо між ними коми. В англійській мові слово and зазвичай ставлять між останнім та передостаннім словом у переліку (за виключенням випадку, коли у списку всього одне слово). Також в англійській мові прийнято ставити кому перед and (оксфордська кома), якщо в переліку більше двох найменувань. Розглянемо 4 приклади:\n",
        "\n",
        "**apples**\n",
        "\n",
        "**apples and oranges**\n",
        "\n",
        "**apples, oranges, and bananas**\n",
        "\n",
        "**apples, oranges, bananas, and lemons**\n",
        "\n",
        "Напишіть програму, яка:\n",
        "\n",
        "1. отримує на вхід перелік деяких предметів, які користувач вводить з клавіатури, та записує їх у список у вигляді окремих елементів;\n",
        "\n",
        "2. виводить ці предмети у тій самій послідовності, в якій вони були введені, розставляючи коми та слово and так, як показано у прикладі."
      ],
      "metadata": {
        "id": "4n4p_pz7gFKM"
      }
    },
    {
      "cell_type": "code",
      "execution_count": null,
      "source": [
        "sentence = []\r\n",
        "w = True\r\n",
        "while w:\r\n",
        "    word = [input('Enter the word: ')]\r\n",
        "    sentence = sentence + word\r\n",
        "    while True:\r\n",
        "        print('Enter 1 if you want to enter another word')\r\n",
        "        print('Enter 2 if you have entered all the words')\r\n",
        "        q = input()\r\n",
        "        if q == '2':\r\n",
        "            w = False\r\n",
        "            break\r\n",
        "        elif q != '1':\r\n",
        "            print('You have entered incorrect data')\r\n",
        "        else:\r\n",
        "            break\r\n",
        "e = len(sentence) -1\r\n",
        "print()\r\n",
        "if e == 0:\r\n",
        "    print(sentence[0])\r\n",
        "elif e == 1:\r\n",
        "    print(sentence[0] + ' and ' + sentence[1])\r\n",
        "elif e >1:\r\n",
        "    print(sentence[0], end= '')\r\n",
        "    r = 1\r\n",
        "    while r < e:\r\n",
        "        print(', ' + sentence[r], end= '')\r\n",
        "        r = r +1\r\n",
        "    print(', and ' + sentence[e])\r\n",
        "print()"
      ],
      "outputs": [],
      "metadata": {
        "id": "Nv66Jkkpf-sI"
      }
    }
  ]
}