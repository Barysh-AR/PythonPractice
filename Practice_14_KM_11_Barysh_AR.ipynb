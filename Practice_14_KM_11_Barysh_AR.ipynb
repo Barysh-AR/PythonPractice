{
  "cells": [
    {
      "cell_type": "markdown",
      "metadata": {
        "id": "FMqboNwO4rVs"
      },
      "source": [
        "# **Курс \"Програмування на мові Python\"**"
      ]
    },
    {
      "cell_type": "markdown",
      "metadata": {
        "id": "A2T6MigL5Z06"
      },
      "source": [
        "## **Практичне зайняття №14**\n",
        "\n",
        "### Тема: \"Робота зі спеціальними форматами файлів\""
      ]
    },
    {
      "cell_type": "markdown",
      "metadata": {
        "id": "A34oz70eU463"
      },
      "source": [
        "### **Завдання 1 (1,5 бали)**\n",
        "\n",
        "Створіть CSV-файл, що буде містити від 5 до 10 пісень (творів) вашого улюбленого музиканта. Назва файлу - ім'я музиканта (композитора) або назва гурту.\n",
        "\n",
        "1. Обов'язково додайте до файлу рядок з назвами двох колонок (Song, Year) або (Composition, Year).\n",
        "\n",
        "2. Після запису файлу роздрукуйте назву файлу та усі наявні у файлі рядки (включно із заголовками).\n",
        "\n",
        "3. Для запису та зчитування рядків скористайтесь функціями csv.DictWriter() та csv.DictReader()."
      ]
    },
    {
      "cell_type": "code",
      "execution_count": null,
      "metadata": {
        "id": "MEJIrG1GU463"
      },
      "outputs": [],
      "source": [
        "import csv\n",
        "\n",
        "el = [{'Composition': \"«Rigoletto» The Duke's Song from Act 3\",'Year': 'March 1851'},\n",
        "{'Composition': \"«La Traviata» Alfred's drinking song from act 1\",'Year': 'March 1853'},\n",
        "{'Composition': \"«La Traviata» Alfred's aria from act 2\",'Year': 'March 1853'},\n",
        "{'Composition': '«Nabucco» Chorus of slaves from act 3','Year': 'March 1842'},\n",
        "{'Composition': '«La Forza del destino» Overture','Year': 'November 1862'}]\n",
        "file_name = 'Giuseppe Verdi.csv'\n",
        "\n",
        "with open(file_name, 'w', newline='') as csvfile:\n",
        "    fieldnames = ['Composition', 'Year']\n",
        "    writer = csv.DictWriter(csvfile, fieldnames=fieldnames)\n",
        "    writer.writeheader()\n",
        "    for i in el:\n",
        "        writer.writerow(i)                       \n",
        "\n",
        "print('\\n' + file_name + '\\n')\n",
        "\n",
        "with open(file_name, newline='') as csvfile:\n",
        "\n",
        "    reader = csv.DictReader(csvfile)\n",
        "    for heading in reader.fieldnames:\n",
        "        print(heading, end=' ')\n",
        "    print('\\n', end='')\n",
        "    for row in reader:\n",
        "        print(row['Composition'], row['Year'])"
      ]
    },
    {
      "cell_type": "markdown",
      "metadata": {
        "id": "Jb-eSBsWU464"
      },
      "source": [
        "### **Завдання 2 (1,5 бали)**\n",
        "\n",
        "COCO Dataset - набір фотографій та анотацій до них. Його дуже часто використовують для тренування класифікаторів, призначених для розпізнавання об'єктів та визначення ключових точок на зображеннях.\n",
        "\n",
        "Завантажте файли з описом фотографій COCO Dataset за посиланням: [COCO Dataset](http://images.cocodataset.org/annotations/image_info_test2017.zip).\n",
        "\n",
        "Відкрийте файл image_info_test-dev2017.json. Інформація про фотографії з бази COCO міститься у полі \"images\". Інформація про категорії, на які розділені всі фотографії, міститься у полі \"categories\".\n",
        "\n",
        "1. Визначте кількість фотографій, інформацію про які можна знайти у цьому файлі (кількість елементів, що відповідають ключу \"images\").\n",
        "\n",
        "2. Визначте кількість наявних категорій (кількість елементів, що відповідають ключу \"categories\").\n",
        "\n",
        "3. Виведіть посилання на фотографію 000000000001.jpg (\"coco_url\"). Також виведіть висоту цієї фотографії (\"height\"), ширину (\"width\") та її ідентифікатор (\"id\").\n",
        "\n",
        "4. Виведіть назву фотографії з набільшим номером.\n",
        "\n",
        "Опис структури JSON-файлу для набору фотографій COCO можна знайти за посиланням: [Data format](https://cocodataset.org/#format-data).\n",
        "\n",
        "Щоб перевірити правильність результатів, у VS Code встановіть розширення JSON та відкрийте файл image_info_test-dev2017.json. Розширення автоматично визначає кількість елементів у кожному полі."
      ]
    },
    {
      "cell_type": "code",
      "execution_count": null,
      "metadata": {},
      "outputs": [],
      "source": [
        "\n",
        "import json\n",
        "\n",
        "\n",
        "with open('image_info_test-dev2017.json') as file:\n",
        "    a = json.load(file)\n",
        "\n",
        "search_name = '000000000001.jpg'\n",
        "\n",
        "number_of_pictures = 0\n",
        "\n",
        "largest_id = 0\n",
        "file_name_largest_id = ''\n",
        "\n",
        "for i in a['images']:\n",
        "    number_of_pictures +=1\n",
        "\n",
        "    if int(i['id']) > int (largest_id): \n",
        "        largest_id = i['id']\n",
        "        file_name_largest_id = i[\"file_name\"]\n",
        "\n",
        "    if i[\"file_name\"] == search_name:\n",
        "        coco_url = i[\"coco_url\"]\n",
        "        height = i[\"height\"]\n",
        "        width = i[\"width\"]\n",
        "        id_ = i[\"id\"]\n",
        "\n",
        "number_of_categories = 0\n",
        "for i in a[\"categories\"]:\n",
        "    number_of_categories +=1\n",
        "\n",
        "text = '''\n",
        "info: {}\n",
        "\n",
        "number of pictures: {}\n",
        "number of categories: {}\n",
        "\n",
        "picture: {}\n",
        "coco_url: {}\n",
        "height: {}\n",
        "width: {}\n",
        "id: {}\n",
        "\n",
        "The largest number of the picture with the title {}\n",
        "'''\n",
        "\n",
        "b = json.dumps(a['info'], indent = 0, sort_keys=False)\n",
        "print(text.format(b, number_of_pictures, number_of_categories, search_name, coco_url, height, width, id_, file_name_largest_id))\n"
      ]
    }
  ],
  "metadata": {
    "colab": {
      "collapsed_sections": [],
      "name": "Practice_14_KM_01.ipynb",
      "provenance": []
    },
    "kernelspec": {
      "display_name": "Python 3",
      "name": "python3"
    },
    "language_info": {
      "codemirror_mode": {
        "name": "ipython",
        "version": 3
      },
      "file_extension": ".py",
      "mimetype": "text/x-python",
      "name": "python",
      "nbconvert_exporter": "python",
      "pygments_lexer": "ipython3",
      "version": "3.10.0"
    }
  },
  "nbformat": 4,
  "nbformat_minor": 0
}
